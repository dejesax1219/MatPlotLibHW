{
 "cells": [
  {
   "cell_type": "markdown",
   "metadata": {},
   "source": [
    "## Observations and Insights"
   ]
  },
  {
   "cell_type": "markdown",
   "metadata": {},
   "source": []
  },
  {
   "cell_type": "markdown",
   "metadata": {},
   "source": [
    "Capomulin is a promising drug candidate for this kind of tumor and warrants further investigation from this clinical trial's data analysis results.\n",
    "Capomulin also had the most number of mice complete the study.\n",
    "\n"
   ]
  },
  {
   "cell_type": "code",
   "execution_count": null,
   "metadata": {},
   "outputs": [],
   "source": [
    "# Dependencies and Setup\n",
    "import matplotlib.pyplot as plt\n",
    "import pandas as pd\n",
    "import scipy.stats as st\n",
    "\n",
    "# Study data files\n",
    "mouse_metadata = \"data/Mouse_metadata.csv\"\n",
    "study_results = \"data/Study_results.csv\"\n",
    "\n",
    "# Read the mouse data and the study results\n",
    "mouse_metadata = pd.read_csv(mouse_metadata)\n",
    "study_results = pd.read_csv(study_results)\n",
    "\n",
    "# Combine the data into a single dataset\n",
    "cmpD = pd.merge(mouse_metadata, study_results,on='Mouse ID',how='left')"
   ]
  },
  {
   "cell_type": "code",
   "execution_count": 9,
   "metadata": {},
   "outputs": [
    {
     "name": "stdout",
     "output_type": "stream",
     "text": [
      "  Mouse ID Drug Regimen   Sex  Age_months  Weight (g)  Timepoint  \\\n",
      "0     k403     Ramicane  Male          21          16          0   \n",
      "1     k403     Ramicane  Male          21          16          5   \n",
      "2     k403     Ramicane  Male          21          16         10   \n",
      "3     k403     Ramicane  Male          21          16         15   \n",
      "4     k403     Ramicane  Male          21          16         20   \n",
      "\n",
      "   Tumor Volume (mm3)  Metastatic Sites  \n",
      "0           45.000000                 0  \n",
      "1           38.825898                 0  \n",
      "2           35.014271                 1  \n",
      "3           34.223992                 1  \n",
      "4           32.997729                 1  \n",
      "\n",
      "check g989 to see if its listed for more than one drug: \n",
      "Drug Regimen    Propriva\n",
      "Sex               Female\n",
      "Age_months            21\n",
      "Weight (g)            26\n",
      "Name: g989, dtype: object\n",
      "\n"
     ]
    }
   ],
   "source": [
    "## Summary statistics\n",
    "# enable display of all columns and rows:\n",
    "pd.options.display.max_columns = None\n",
    "pd.options.display.max_rows = None\n",
    "\n",
    "print(cmpD.head())\n",
    "print()\n",
    "\n",
    "#Check g989 to see if its listed for more than one drug\n",
    "study_data_mice = mouse_metadata.set_index('Mouse ID')\n",
    "mouse = study_data_mice.loc['g989', :]\n",
    "print('check g989 to see if its listed for more than one drug: ')\n",
    "print(mouse.head())\n",
    "print()"
   ]
  },
  {
   "cell_type": "code",
   "execution_count": 14,
   "metadata": {},
   "outputs": [
    {
     "name": "stdout",
     "output_type": "stream",
     "text": [
      "Summary stats: \n",
      "                   mean     median        var       std       sem\n",
      "Drug Regimen                                                     \n",
      "Capomulin     40.675741  41.557809  24.947764  4.994774  0.329346\n",
      "Ceftamin      52.591172  51.776157  39.290177  6.268188  0.469821\n",
      "Infubinol     52.884795  51.820584  43.128684  6.567243  0.492236\n",
      "Ketapril      55.235638  53.698743  68.553577  8.279709  0.603860\n",
      "Naftisol      54.331565  52.509285  66.173479  8.134708  0.596466\n",
      "\n"
     ]
    }
   ],
   "source": [
    "# Generate a summary statistics table of mean, median, variance, standard deviation, and SEM of the tumor volume for each regimen\n",
    "print('Summary stats: ')\n",
    "tumor_sump= cmpD.groupby(\"Drug Regimen\").agg(['mean', 'median','var','std','sem'])[\"Tumor Volume (mm3)\"]\n",
    "print(tumor_sump.head())\n",
    "print()\n"
   ]
  },
  {
   "cell_type": "markdown",
   "metadata": {},
   "source": [
    "## Bar plots"
   ]
  },
  {
   "cell_type": "code",
   "execution_count": 15,
   "metadata": {},
   "outputs": [
    {
     "name": "stdout",
     "output_type": "stream",
     "text": [
      "ptsByRegimen: \n",
      "              Mouse ID  Sex  Age_months  Weight (g)  Timepoint  \\\n",
      "Drug Regimen                                                     \n",
      "Capomulin          230  230         230         230        230   \n",
      "Ceftamin           178  178         178         178        178   \n",
      "Infubinol          178  178         178         178        178   \n",
      "Ketapril           188  188         188         188        188   \n",
      "Naftisol           186  186         186         186        186   \n",
      "\n",
      "              Tumor Volume (mm3)  Metastatic Sites  \n",
      "Drug Regimen                                        \n",
      "Capomulin                    230               230  \n",
      "Ceftamin                     178               178  \n",
      "Infubinol                    178               178  \n",
      "Ketapril                     188               188  \n",
      "Naftisol                     186               186  \n",
      "\n",
      "\n"
     ]
    },
    {
     "data": {
      "text/plain": [
       "<matplotlib.axes._subplots.AxesSubplot at 0x2247dc98fc8>"
      ]
     },
     "execution_count": 15,
     "metadata": {},
     "output_type": "execute_result"
    },
    {
     "data": {
      "image/png": "[encoded data removed]",
      "text/plain": [
       "<Figure size 432x288 with 1 Axes>"
      ]
     },
     "metadata": {
      "needs_background": "light"
     },
     "output_type": "display_data"
    }
   ],
   "source": [
    "# Generate a bar plot showing number of data points for each treatment regimen using pandas\n",
    "ptsByRegimen = pd.DataFrame(cmpD.groupby('Drug Regimen').count())\n",
    "print('ptsByRegimen: ')\n",
    "print(ptsByRegimen.head())\n",
    "print()\n",
    "print()\n",
    "ptsByRegimen.plot(kind='bar')\n"
   ]
  },
  {
   "cell_type": "code",
   "execution_count": 16,
   "metadata": {},
   "outputs": [
    {
     "data": {
      "text/plain": [
       "Text(0, 0.5, 'Data Points')"
      ]
     },
     "execution_count": 16,
     "metadata": {},
     "output_type": "execute_result"
    },
    {
     "data": {
      "image/png": "[encoded data removed]",
      "text/plain": [
       "<Figure size 432x288 with 1 Axes>"
      ]
     },
     "metadata": {
      "needs_background": "light"
     },
     "output_type": "display_data"
    }
   ],
   "source": [
    "# Generate a bar plot showing number of data points for each treatment regimen using pyplot\n",
    "ptsByRegimen = cmpD.groupby('Drug Regimen').size()\n",
    "ax = ptsByRegimen.plot(kind='bar', lw=2, colormap='Paired', title='Data Points by Drug Regimen')\n",
    "#ax.set_xlabel(\"x label\")\n",
    "ax.set_ylabel(\"Data Points\")\n",
    "#ax.show()"
   ]
  },
  {
   "cell_type": "code",
   "execution_count": 17,
   "metadata": {},
   "outputs": [
    {
     "name": "stdout",
     "output_type": "stream",
     "text": [
      "head: \n",
      "Sex\n",
      "Female    935\n",
      "Male      958\n",
      "dtype: int64\n",
      "\n",
      "tail: \n",
      "Sex\n",
      "Female    935\n",
      "Male      958\n",
      "dtype: int64\n",
      "\n"
     ]
    }
   ],
   "source": [
    "# Generate a pie plot showing the distribution of female versus male mice using pandas\n",
    "mouse_gender= cmpD.groupby('Sex').size()\n",
    "\n",
    "\n",
    "print('head: ') \n",
    "print(mouse_gender.head(20))\n",
    "print()\n",
    "print('tail: ')\n",
    "print(mouse_gender.tail(20))\n",
    "print()\n",
    "\n"
   ]
  },
  {
   "cell_type": "code",
   "execution_count": 18,
   "metadata": {},
   "outputs": [
    {
     "data": {
      "image/png": "[encoded data removed]",
      "text/plain": [
       "<Figure size 432x288 with 1 Axes>"
      ]
     },
     "metadata": {},
     "output_type": "display_data"
    }
   ],
   "source": [
    "# Generate a pie plot showing the distribution of female versus male mice using pyplot\n",
    "\n",
    "labels = 'Females', 'Males'\n",
    "\n",
    "explode = (0, 0.1, 0, 0)  # only \"explode\" the 2nd slice (i.e. 'Hogs')\n",
    "\n",
    "fig1, ax1 = plt.subplots()\n",
    "ax1.pie(mouse_gender, labels=labels, autopct='%1.1f%%')\n",
    "ax1.axis('equal')  # Equal aspect ratio ensures that pie is drawn as a circle.\n",
    "\n",
    "plt.show()\n",
    "\n"
   ]
  },
  {
   "cell_type": "markdown",
   "metadata": {},
   "source": [
    "## Quartiles, outliers and boxplots"
   ]
  },
  {
   "cell_type": "code",
   "execution_count": 19,
   "metadata": {},
   "outputs": [
    {
     "name": "stdout",
     "output_type": "stream",
     "text": [
      "\n",
      "  Drug Regimen  Tumor Volume (mm3)\n",
      "0     Ramicane           45.000000\n",
      "1     Ramicane           38.825898\n",
      "2     Ramicane           35.014271\n",
      "3     Ramicane           34.223992\n",
      "4     Ramicane           32.997729\n",
      "\n",
      "\n",
      "   Drug Regimen  Tumor Volume (mm3)\n",
      "9      Ramicane           22.050126\n",
      "19    Capomulin           23.343598\n",
      "8      Ramicane           24.365505\n",
      "18    Capomulin           25.472143\n",
      "7      Ramicane           26.546993\n",
      "\n",
      "\n",
      "    Drug Regimen  Tumor Volume (mm3)\n",
      "373    Capomulin           46.759074\n",
      "139    Capomulin           38.909349\n",
      "299    Capomulin           38.939633\n",
      "242    Capomulin           38.954115\n",
      "309    Capomulin           38.982878\n",
      "\n"
     ]
    }
   ],
   "source": [
    "# Calculate the final tumor volume of each mouse across four of the most promising treatment regimens. Calculate the IQR and quantitatively determine if there are any potential outliers. \n",
    "\n",
    "tumor_volume4 = cmpD[['Drug Regimen','Tumor Volume (mm3)']]\n",
    "\n",
    "\n",
    "# Preview DataFrame\n",
    "print()\n",
    "print(tumor_volume4.head())\n",
    "print()\n",
    "\n",
    "\n",
    "tumor_volume4 = tumor_volume4.sort_values('Tumor Volume (mm3)')\n",
    "# Preview DataFrame\n",
    "print()\n",
    "print(tumor_volume4.head())\n",
    "print()\n",
    "\n",
    "\n",
    "tumor_volume4 = tumor_volume4.sort_values('Drug Regimen')\n",
    "# Preview DataFrame\n",
    "print()\n",
    "print(tumor_volume4.head())\n",
    "print()\n"
   ]
  },
  {
   "cell_type": "code",
   "execution_count": 25,
   "metadata": {},
   "outputs": [],
   "source": [
    "# Generate a box plot of the final tumor volume of each mouse across four regimens of interest\n"
   ]
  },
  {
   "cell_type": "markdown",
   "metadata": {},
   "source": [
    "## Line and scatter plots"
   ]
  },
  {
   "cell_type": "code",
   "execution_count": 21,
   "metadata": {},
   "outputs": [],
   "source": [
    "# Generate a scatter plot of mouse weight versus average tumor volume for the Capomulin regimen"
   ]
  },
  {
   "cell_type": "code",
   "execution_count": 22,
   "metadata": {},
   "outputs": [],
   "source": [
    "# Calculate the correlation coefficient and linear regression model for mouse weight and average tumor volume for the Capomulin regimen"
   ]
  }
 ],
 "metadata": {
  "anaconda-cloud": {},
  "kernelspec": {
   "display_name": "Python 3.7.6 64-bit ('PythonData': conda)",
   "language": "python",
   "name": "python37664bitpythondatacondad01675346f0947a397e88e5c85311190"
  },
  "language_info": {
   "codemirror_mode": {
    "name": "ipython",
    "version": 3
   },
   "file_extension": ".py",
   "mimetype": "text/x-python",
   "name": "python",
   "nbconvert_exporter": "python",
   "pygments_lexer": "ipython3",
   "version": "3.7.6"
  }
 },
 "nbformat": 4,
 "nbformat_minor": 2
}
